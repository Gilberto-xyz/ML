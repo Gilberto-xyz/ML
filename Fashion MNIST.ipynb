{
 "cells": [
  {
   "cell_type": "markdown",
   "metadata": {},
   "source": [
    "# Data set de modas \n",
    "implementado con ayuda de Tensorflow"
   ]
  },
  {
   "cell_type": "code",
   "execution_count": 1,
   "metadata": {},
   "outputs": [
    {
     "name": "stdout",
     "output_type": "stream",
     "text": [
      "2.8.0\n"
     ]
    }
   ],
   "source": [
    "import tensorflow as tf\n",
    "print(tf.__version__)"
   ]
  },
  {
   "cell_type": "markdown",
   "metadata": {},
   "source": [
    "Los datos de Fashion MNIST estan disponibles directamente en la API de conjuntos de datos de `tf.keras`\n",
    "Y se cargan de la siguiente manera"
   ]
  },
  {
   "cell_type": "code",
   "execution_count": 3,
   "metadata": {},
   "outputs": [],
   "source": [
    "fashion_mnist = tf.keras.datasets.fashion_mnist"
   ]
  },
  {
   "cell_type": "markdown",
   "metadata": {},
   "source": [
    "Llamar a `load_data`\n",
    "En este objeto nos dara dos conjuntos con los valores de entrenamiento y prueba para los graficos que contienen las prendas y sus etiquetas"
   ]
  },
  {
   "cell_type": "code",
   "execution_count": 4,
   "metadata": {},
   "outputs": [
    {
     "name": "stdout",
     "output_type": "stream",
     "text": [
      "Downloading data from https://storage.googleapis.com/tensorflow/tf-keras-datasets/train-labels-idx1-ubyte.gz\n",
      "32768/29515 [=================================] - 0s 1us/step\n",
      "40960/29515 [=========================================] - 0s 1us/step\n",
      "Downloading data from https://storage.googleapis.com/tensorflow/tf-keras-datasets/train-images-idx3-ubyte.gz\n",
      "26427392/26421880 [==============================] - 21s 1us/step\n",
      "26435584/26421880 [==============================] - 21s 1us/step\n",
      "Downloading data from https://storage.googleapis.com/tensorflow/tf-keras-datasets/t10k-labels-idx1-ubyte.gz\n",
      "16384/5148 [===============================================================================================] - 0s 0s/step\n",
      "Downloading data from https://storage.googleapis.com/tensorflow/tf-keras-datasets/t10k-images-idx3-ubyte.gz\n",
      "4423680/4422102 [==============================] - 4s 1us/step\n",
      "4431872/4422102 [==============================] - 4s 1us/step\n"
     ]
    }
   ],
   "source": [
    "(training_images, training_labels), (test_images, test_labels) = fashion_mnist.load_data()"
   ]
  },
  {
   "cell_type": "markdown",
   "metadata": {},
   "source": [
    "Visualizacion de los valores\n",
    "Se imprime una imagen de entrenamiento y una etiqueta de entrenamiento para ver"
   ]
  },
  {
   "cell_type": "code",
   "execution_count": 5,
   "metadata": {},
   "outputs": [
    {
     "name": "stdout",
     "output_type": "stream",
     "text": [
      "Label:  0\n",
      "Matrix:  [[  0   0   0   0   0   0   0   0   0   0 120  54   0   0   0   0  13 124   0   0   0   0   2   0   0   0   0   0]\n",
      " [  0   0   0   0   0   0   0  64 173 207 218 206 232 184 168 202 205 218 202 126  12   0   0   1   0   0   0   0]\n",
      " [  0   0   0   0   0  56 199 223 222 207 205 211 223 227 231 230 214 203 209 220 213 164   0   0   2   0   0   0]\n",
      " [  0   0   0   0   0 191 219 200 200 206 206 205 206 206 203 202 201 202 201 195 198 222 149   0   0   0   0   0]\n",
      " [  0   0   0   0  72 224 201 205 208 202 204 204 205 205 208 205 192 188 203 202 200 189 198  23   0   0   0   0]\n",
      " [  0   0   0   0 160 221 211 200 204 203 204 203 201 202 201 203 201 185 203 203 188 194 207 126   0   0   0   0]\n",
      " [  0   0   0   0 227 212 224 205 201 204 203 202 202 201 201 200 201 195 198 191 182 199 202 202   0   0   0   0]\n",
      " [  0   0   0  20 208 205 224 219 201 200 202 202 201 201 199 198 199 199 197 183 195 210 191 189  11   0   0   0]\n",
      " [  0   0   0 138 223 201 218 229 216 202 202 200 200 197 197 199 197 194 186 178 214 205 180 193  84   0   0   0]\n",
      " [  0   0   0 104 181 212 234 254 219 208 204 201 201 199 199 199 197 197 192 191 250 220 199 197 141   0   0   0]\n",
      " [  0   0   0   0   0  40 131 193 219 207 205 202 202 199 199 199 193 197 188 200 174 111  56  15   0   0   0   0]\n",
      " [  0   0   0   0   0   0   0   2 248 208 202 199 200 197 197 200 194 187 192 186   0   0   0   0   0   0   0   0]\n",
      " [  0   0   0   0   0   2   0   0 228 217 199 200 201 202 198 198 203 188 200 162   0   0   2   3   1   0   0   0]\n",
      " [  0   0   0   0   0   0   0   0 200 218 203 200 198 201 199 197 203 188 203 136   0   0   0   0   0   0   0   0]\n",
      " [  0   0   0   0   0   0   0   0 181 220 202 200 200 201 200 195 200 191 202  85   0   1   0   0   0   0   0   0]\n",
      " [  0   0   0   0   0   0   0   0 168 220 200 200 201 201 199 198 195 193 198  82   0   1   0   0   0   0   0   0]\n",
      " [  0   0   0   0   0   0   0   0 157 220 199 200 199 199 195 200 191 194 199 106   0   7   0   0   0   0   0   0]\n",
      " [  0   0   0   0   0   0   0   0 165 217 199 200 200 199 194 199 192 193 203 109   0   1   0   0   0   0   0   0]\n",
      " [  0   0   0   0   0   1   0   0 175 210 200 200 200 200 192 198 195 188 208 125   0   0   0   0   0   0   0   0]\n",
      " [  0   0   0   0   0   2   0   0 197 205 201 199 197 194 192 198 195 186 205 134   0   0   0   0   0   0   0   0]\n",
      " [  0   0   0   0   0   4   0  16 206 201 201 199 197 194 191 199 197 191 199 160   0   0   0   0   0   0   0   0]\n",
      " [  0   0   0   0   0   5   0  31 209 195 200 198 197 194 184 194 193 195 192 167   0   0   2   0   0   0   0   0]\n",
      " [  0   0   0   0   0   5   0  32 207 200 197 197 197 197 183 197 195 195 190 184   5   0   3   0   0   0   0   0]\n",
      " [  0   0   0   0   0   7   0  68 210 197 197 194 198 199 187 199 199 195 190 190  20   0   4   0   0   0   0   0]\n",
      " [  0   0   0   0   0   7   0  89 210 194 199 195 199 203 195 200 200 197 192 190  22   0   4   0   0   0   0   0]\n",
      " [  0   0   0   0   0   7   0 116 207 193 195 191 195 194 188 190 197 197 190 192  47   0   5   0   0   0   0   0]\n",
      " [  0   0   0   0   0   5   0 172 225 207 207 225 225 225 224 225 229 211 206 210  88   0   6   0   0   0   0   0]\n",
      " [  0   0   0   0   0   2   0  48  94 103 119 123 132 128 122 119 114  97  88 102  27   0   4   0   0   0   0   0]]\n"
     ]
    },
    {
     "data": {
      "image/png": "[encoded data removed]",
      "text/plain": [
       "<Figure size 432x288 with 1 Axes>"
      ]
     },
     "metadata": {
      "needs_background": "light"
     },
     "output_type": "display_data"
    }
   ],
   "source": [
    "import numpy as np\n",
    "import matplotlib.pyplot as plt\n",
    "np.set_printoptions(linewidth = 200)\n",
    "\n",
    "# Establecer el indice de la imagen que se visualizara\n",
    "img_index = 5999 #6000 -1\n",
    "\n",
    "# Visualizacion\n",
    "plt.imshow(training_images[img_index], cmap = 'gray')\n",
    "plt.axis(False)\n",
    "\n",
    "print('Label: ', training_labels[img_index])\n",
    "print('Matrix: ', training_images[img_index])"
   ]
  },
  {
   "cell_type": "markdown",
   "metadata": {},
   "source": [
    "# Preparacion de los datos\n",
    "todos los valores se encuentran en un rango de 0 - 255. Se esta entrenando una red neuronal, por varias razones es mas facil si tranformamos los valores para tratar con valores entre 0 y 1. Este proceso es llamado `Normalizacion`"
   ]
  },
  {
   "cell_type": "code",
   "execution_count": 7,
   "metadata": {},
   "outputs": [],
   "source": [
    "# Actualizamos la variable dividiendo los valores originales entre 255\n",
    "training_images = training_images/ 255.0\n",
    "test_images = test_images / 255.0"
   ]
  },
  {
   "cell_type": "code",
   "execution_count": 8,
   "metadata": {},
   "outputs": [
    {
     "name": "stdout",
     "output_type": "stream",
     "text": [
      "Label:  0\n",
      "Matrix:  [[0.00000000e+00 0.00000000e+00 0.00000000e+00 0.00000000e+00 0.00000000e+00 0.00000000e+00 0.00000000e+00 0.00000000e+00 0.00000000e+00 0.00000000e+00 1.84544406e-03 8.30449827e-04 0.00000000e+00\n",
      "  0.00000000e+00 0.00000000e+00 0.00000000e+00 1.99923106e-04 1.90695886e-03 0.00000000e+00 0.00000000e+00 0.00000000e+00 0.00000000e+00 3.07574010e-05 0.00000000e+00 0.00000000e+00 0.00000000e+00\n",
      "  0.00000000e+00 0.00000000e+00]\n",
      " [0.00000000e+00 0.00000000e+00 0.00000000e+00 0.00000000e+00 0.00000000e+00 0.00000000e+00 0.00000000e+00 9.84236832e-04 2.66051519e-03 3.18339100e-03 3.35255671e-03 3.16801230e-03 3.56785852e-03\n",
      "  2.82968089e-03 2.58362168e-03 3.10649750e-03 3.15263360e-03 3.35255671e-03 3.10649750e-03 1.93771626e-03 1.84544406e-04 0.00000000e+00 0.00000000e+00 1.53787005e-05 0.00000000e+00 0.00000000e+00\n",
      "  0.00000000e+00 0.00000000e+00]\n",
      " [0.00000000e+00 0.00000000e+00 0.00000000e+00 0.00000000e+00 0.00000000e+00 8.61207228e-04 3.06036140e-03 3.42945021e-03 3.41407151e-03 3.18339100e-03 3.15263360e-03 3.24490581e-03 3.42945021e-03\n",
      "  3.49096501e-03 3.55247982e-03 3.53710111e-03 3.29104191e-03 3.12187620e-03 3.21414840e-03 3.38331411e-03 3.27566321e-03 2.52210688e-03 0.00000000e+00 0.00000000e+00 3.07574010e-05 0.00000000e+00\n",
      "  0.00000000e+00 0.00000000e+00]\n",
      " [0.00000000e+00 0.00000000e+00 0.00000000e+00 0.00000000e+00 0.00000000e+00 2.93733180e-03 3.36793541e-03 3.07574010e-03 3.07574010e-03 3.16801230e-03 3.16801230e-03 3.15263360e-03 3.16801230e-03\n",
      "  3.16801230e-03 3.12187620e-03 3.10649750e-03 3.09111880e-03 3.10649750e-03 3.09111880e-03 2.99884660e-03 3.04498270e-03 3.41407151e-03 2.29142637e-03 0.00000000e+00 0.00000000e+00 0.00000000e+00\n",
      "  0.00000000e+00 0.00000000e+00]\n",
      " [0.00000000e+00 0.00000000e+00 0.00000000e+00 0.00000000e+00 1.10726644e-03 3.44482891e-03 3.09111880e-03 3.15263360e-03 3.19876970e-03 3.10649750e-03 3.13725490e-03 3.13725490e-03 3.15263360e-03\n",
      "  3.15263360e-03 3.19876970e-03 3.15263360e-03 2.95271050e-03 2.89119569e-03 3.12187620e-03 3.10649750e-03 3.07574010e-03 2.90657439e-03 3.04498270e-03 3.53710111e-04 0.00000000e+00 0.00000000e+00\n",
      "  0.00000000e+00 0.00000000e+00]\n",
      " [0.00000000e+00 0.00000000e+00 0.00000000e+00 0.00000000e+00 2.46059208e-03 3.39869281e-03 3.24490581e-03 3.07574010e-03 3.13725490e-03 3.12187620e-03 3.13725490e-03 3.12187620e-03 3.09111880e-03\n",
      "  3.10649750e-03 3.09111880e-03 3.12187620e-03 3.09111880e-03 2.84505959e-03 3.12187620e-03 3.12187620e-03 2.89119569e-03 2.98346790e-03 3.18339100e-03 1.93771626e-03 0.00000000e+00 0.00000000e+00\n",
      "  0.00000000e+00 0.00000000e+00]\n",
      " [0.00000000e+00 0.00000000e+00 0.00000000e+00 0.00000000e+00 3.49096501e-03 3.26028451e-03 3.44482891e-03 3.15263360e-03 3.09111880e-03 3.13725490e-03 3.12187620e-03 3.10649750e-03 3.10649750e-03\n",
      "  3.09111880e-03 3.09111880e-03 3.07574010e-03 3.09111880e-03 2.99884660e-03 3.04498270e-03 2.93733180e-03 2.79892349e-03 3.06036140e-03 3.10649750e-03 3.10649750e-03 0.00000000e+00 0.00000000e+00\n",
      "  0.00000000e+00 0.00000000e+00]\n",
      " [0.00000000e+00 0.00000000e+00 0.00000000e+00 3.07574010e-04 3.19876970e-03 3.15263360e-03 3.44482891e-03 3.36793541e-03 3.09111880e-03 3.07574010e-03 3.10649750e-03 3.10649750e-03 3.09111880e-03\n",
      "  3.09111880e-03 3.06036140e-03 3.04498270e-03 3.06036140e-03 3.06036140e-03 3.02960400e-03 2.81430219e-03 2.99884660e-03 3.22952710e-03 2.93733180e-03 2.90657439e-03 1.69165705e-04 0.00000000e+00\n",
      "  0.00000000e+00 0.00000000e+00]\n",
      " [0.00000000e+00 0.00000000e+00 0.00000000e+00 2.12226067e-03 3.42945021e-03 3.09111880e-03 3.35255671e-03 3.52172241e-03 3.32179931e-03 3.10649750e-03 3.10649750e-03 3.07574010e-03 3.07574010e-03\n",
      "  3.02960400e-03 3.02960400e-03 3.06036140e-03 3.02960400e-03 2.98346790e-03 2.86043829e-03 2.73740869e-03 3.29104191e-03 3.15263360e-03 2.76816609e-03 2.96808920e-03 1.29181084e-03 0.00000000e+00\n",
      "  0.00000000e+00 0.00000000e+00]\n",
      " [0.00000000e+00 0.00000000e+00 0.00000000e+00 1.59938485e-03 2.78354479e-03 3.26028451e-03 3.59861592e-03 3.90618993e-03 3.36793541e-03 3.19876970e-03 3.13725490e-03 3.09111880e-03 3.09111880e-03\n",
      "  3.06036140e-03 3.06036140e-03 3.06036140e-03 3.02960400e-03 3.02960400e-03 2.95271050e-03 2.93733180e-03 3.84467512e-03 3.38331411e-03 3.06036140e-03 3.02960400e-03 2.16839677e-03 0.00000000e+00\n",
      "  0.00000000e+00 0.00000000e+00]\n",
      " [0.00000000e+00 0.00000000e+00 0.00000000e+00 0.00000000e+00 0.00000000e+00 6.15148020e-04 2.01460977e-03 2.96808920e-03 3.36793541e-03 3.18339100e-03 3.15263360e-03 3.10649750e-03 3.10649750e-03\n",
      "  3.06036140e-03 3.06036140e-03 3.06036140e-03 2.96808920e-03 3.02960400e-03 2.89119569e-03 3.07574010e-03 2.67589389e-03 1.70703576e-03 8.61207228e-04 2.30680507e-04 0.00000000e+00 0.00000000e+00\n",
      "  0.00000000e+00 0.00000000e+00]\n",
      " [0.00000000e+00 0.00000000e+00 0.00000000e+00 0.00000000e+00 0.00000000e+00 0.00000000e+00 0.00000000e+00 3.07574010e-05 3.81391772e-03 3.19876970e-03 3.10649750e-03 3.06036140e-03 3.07574010e-03\n",
      "  3.02960400e-03 3.02960400e-03 3.07574010e-03 2.98346790e-03 2.87581699e-03 2.95271050e-03 2.86043829e-03 0.00000000e+00 0.00000000e+00 0.00000000e+00 0.00000000e+00 0.00000000e+00 0.00000000e+00\n",
      "  0.00000000e+00 0.00000000e+00]\n",
      " [0.00000000e+00 0.00000000e+00 0.00000000e+00 0.00000000e+00 0.00000000e+00 3.07574010e-05 0.00000000e+00 0.00000000e+00 3.50634371e-03 3.33717801e-03 3.06036140e-03 3.07574010e-03 3.09111880e-03\n",
      "  3.10649750e-03 3.04498270e-03 3.04498270e-03 3.12187620e-03 2.89119569e-03 3.07574010e-03 2.49134948e-03 0.00000000e+00 0.00000000e+00 3.07574010e-05 4.61361015e-05 1.53787005e-05 0.00000000e+00\n",
      "  0.00000000e+00 0.00000000e+00]\n",
      " [0.00000000e+00 0.00000000e+00 0.00000000e+00 0.00000000e+00 0.00000000e+00 0.00000000e+00 0.00000000e+00 0.00000000e+00 3.07574010e-03 3.35255671e-03 3.12187620e-03 3.07574010e-03 3.04498270e-03\n",
      "  3.09111880e-03 3.06036140e-03 3.02960400e-03 3.12187620e-03 2.89119569e-03 3.12187620e-03 2.09150327e-03 0.00000000e+00 0.00000000e+00 0.00000000e+00 0.00000000e+00 0.00000000e+00 0.00000000e+00\n",
      "  0.00000000e+00 0.00000000e+00]\n",
      " [0.00000000e+00 0.00000000e+00 0.00000000e+00 0.00000000e+00 0.00000000e+00 0.00000000e+00 0.00000000e+00 0.00000000e+00 2.78354479e-03 3.38331411e-03 3.10649750e-03 3.07574010e-03 3.07574010e-03\n",
      "  3.09111880e-03 3.07574010e-03 2.99884660e-03 3.07574010e-03 2.93733180e-03 3.10649750e-03 1.30718954e-03 0.00000000e+00 1.53787005e-05 0.00000000e+00 0.00000000e+00 0.00000000e+00 0.00000000e+00\n",
      "  0.00000000e+00 0.00000000e+00]\n",
      " [0.00000000e+00 0.00000000e+00 0.00000000e+00 0.00000000e+00 0.00000000e+00 0.00000000e+00 0.00000000e+00 0.00000000e+00 2.58362168e-03 3.38331411e-03 3.07574010e-03 3.07574010e-03 3.09111880e-03\n",
      "  3.09111880e-03 3.06036140e-03 3.04498270e-03 2.99884660e-03 2.96808920e-03 3.04498270e-03 1.26105344e-03 0.00000000e+00 1.53787005e-05 0.00000000e+00 0.00000000e+00 0.00000000e+00 0.00000000e+00\n",
      "  0.00000000e+00 0.00000000e+00]\n",
      " [0.00000000e+00 0.00000000e+00 0.00000000e+00 0.00000000e+00 0.00000000e+00 0.00000000e+00 0.00000000e+00 0.00000000e+00 2.41445598e-03 3.38331411e-03 3.06036140e-03 3.07574010e-03 3.06036140e-03\n",
      "  3.06036140e-03 2.99884660e-03 3.07574010e-03 2.93733180e-03 2.98346790e-03 3.06036140e-03 1.63014225e-03 0.00000000e+00 1.07650903e-04 0.00000000e+00 0.00000000e+00 0.00000000e+00 0.00000000e+00\n",
      "  0.00000000e+00 0.00000000e+00]\n",
      " [0.00000000e+00 0.00000000e+00 0.00000000e+00 0.00000000e+00 0.00000000e+00 0.00000000e+00 0.00000000e+00 0.00000000e+00 2.53748558e-03 3.33717801e-03 3.06036140e-03 3.07574010e-03 3.07574010e-03\n",
      "  3.06036140e-03 2.98346790e-03 3.06036140e-03 2.95271050e-03 2.96808920e-03 3.12187620e-03 1.67627835e-03 0.00000000e+00 1.53787005e-05 0.00000000e+00 0.00000000e+00 0.00000000e+00 0.00000000e+00\n",
      "  0.00000000e+00 0.00000000e+00]\n",
      " [0.00000000e+00 0.00000000e+00 0.00000000e+00 0.00000000e+00 0.00000000e+00 1.53787005e-05 0.00000000e+00 0.00000000e+00 2.69127259e-03 3.22952710e-03 3.07574010e-03 3.07574010e-03 3.07574010e-03\n",
      "  3.07574010e-03 2.95271050e-03 3.04498270e-03 2.99884660e-03 2.89119569e-03 3.19876970e-03 1.92233756e-03 0.00000000e+00 0.00000000e+00 0.00000000e+00 0.00000000e+00 0.00000000e+00 0.00000000e+00\n",
      "  0.00000000e+00 0.00000000e+00]\n",
      " [0.00000000e+00 0.00000000e+00 0.00000000e+00 0.00000000e+00 0.00000000e+00 3.07574010e-05 0.00000000e+00 0.00000000e+00 3.02960400e-03 3.15263360e-03 3.09111880e-03 3.06036140e-03 3.02960400e-03\n",
      "  2.98346790e-03 2.95271050e-03 3.04498270e-03 2.99884660e-03 2.86043829e-03 3.15263360e-03 2.06074587e-03 0.00000000e+00 0.00000000e+00 0.00000000e+00 0.00000000e+00 0.00000000e+00 0.00000000e+00\n",
      "  0.00000000e+00 0.00000000e+00]\n",
      " [0.00000000e+00 0.00000000e+00 0.00000000e+00 0.00000000e+00 0.00000000e+00 6.15148020e-05 0.00000000e+00 2.46059208e-04 3.16801230e-03 3.09111880e-03 3.09111880e-03 3.06036140e-03 3.02960400e-03\n",
      "  2.98346790e-03 2.93733180e-03 3.06036140e-03 3.02960400e-03 2.93733180e-03 3.06036140e-03 2.46059208e-03 0.00000000e+00 0.00000000e+00 0.00000000e+00 0.00000000e+00 0.00000000e+00 0.00000000e+00\n",
      "  0.00000000e+00 0.00000000e+00]\n",
      " [0.00000000e+00 0.00000000e+00 0.00000000e+00 0.00000000e+00 0.00000000e+00 7.68935025e-05 0.00000000e+00 4.76739715e-04 3.21414840e-03 2.99884660e-03 3.07574010e-03 3.04498270e-03 3.02960400e-03\n",
      "  2.98346790e-03 2.82968089e-03 2.98346790e-03 2.96808920e-03 2.99884660e-03 2.95271050e-03 2.56824298e-03 0.00000000e+00 0.00000000e+00 3.07574010e-05 0.00000000e+00 0.00000000e+00 0.00000000e+00\n",
      "  0.00000000e+00 0.00000000e+00]\n",
      " [0.00000000e+00 0.00000000e+00 0.00000000e+00 0.00000000e+00 0.00000000e+00 7.68935025e-05 0.00000000e+00 4.92118416e-04 3.18339100e-03 3.07574010e-03 3.02960400e-03 3.02960400e-03 3.02960400e-03\n",
      "  3.02960400e-03 2.81430219e-03 3.02960400e-03 2.99884660e-03 2.99884660e-03 2.92195309e-03 2.82968089e-03 7.68935025e-05 0.00000000e+00 4.61361015e-05 0.00000000e+00 0.00000000e+00 0.00000000e+00\n",
      "  0.00000000e+00 0.00000000e+00]\n",
      " [0.00000000e+00 0.00000000e+00 0.00000000e+00 0.00000000e+00 0.00000000e+00 1.07650903e-04 0.00000000e+00 1.04575163e-03 3.22952710e-03 3.02960400e-03 3.02960400e-03 2.98346790e-03 3.04498270e-03\n",
      "  3.06036140e-03 2.87581699e-03 3.06036140e-03 3.06036140e-03 2.99884660e-03 2.92195309e-03 2.92195309e-03 3.07574010e-04 0.00000000e+00 6.15148020e-05 0.00000000e+00 0.00000000e+00 0.00000000e+00\n",
      "  0.00000000e+00 0.00000000e+00]\n",
      " [0.00000000e+00 0.00000000e+00 0.00000000e+00 0.00000000e+00 0.00000000e+00 1.07650903e-04 0.00000000e+00 1.36870434e-03 3.22952710e-03 2.98346790e-03 3.06036140e-03 2.99884660e-03 3.06036140e-03\n",
      "  3.12187620e-03 2.99884660e-03 3.07574010e-03 3.07574010e-03 3.02960400e-03 2.95271050e-03 2.92195309e-03 3.38331411e-04 0.00000000e+00 6.15148020e-05 0.00000000e+00 0.00000000e+00 0.00000000e+00\n",
      "  0.00000000e+00 0.00000000e+00]\n",
      " [0.00000000e+00 0.00000000e+00 0.00000000e+00 0.00000000e+00 0.00000000e+00 1.07650903e-04 0.00000000e+00 1.78392926e-03 3.18339100e-03 2.96808920e-03 2.99884660e-03 2.93733180e-03 2.99884660e-03\n",
      "  2.98346790e-03 2.89119569e-03 2.92195309e-03 3.02960400e-03 3.02960400e-03 2.92195309e-03 2.95271050e-03 7.22798923e-04 0.00000000e+00 7.68935025e-05 0.00000000e+00 0.00000000e+00 0.00000000e+00\n",
      "  0.00000000e+00 0.00000000e+00]\n",
      " [0.00000000e+00 0.00000000e+00 0.00000000e+00 0.00000000e+00 0.00000000e+00 7.68935025e-05 0.00000000e+00 2.64513649e-03 3.46020761e-03 3.18339100e-03 3.18339100e-03 3.46020761e-03 3.46020761e-03\n",
      "  3.46020761e-03 3.44482891e-03 3.46020761e-03 3.52172241e-03 3.24490581e-03 3.16801230e-03 3.22952710e-03 1.35332564e-03 0.00000000e+00 9.22722030e-05 0.00000000e+00 0.00000000e+00 0.00000000e+00\n",
      "  0.00000000e+00 0.00000000e+00]\n",
      " [0.00000000e+00 0.00000000e+00 0.00000000e+00 0.00000000e+00 0.00000000e+00 3.07574010e-05 0.00000000e+00 7.38177624e-04 1.44559785e-03 1.58400615e-03 1.83006536e-03 1.89158016e-03 2.02998847e-03\n",
      "  1.96847366e-03 1.87620146e-03 1.83006536e-03 1.75317186e-03 1.49173395e-03 1.35332564e-03 1.56862745e-03 4.15224913e-04 0.00000000e+00 6.15148020e-05 0.00000000e+00 0.00000000e+00 0.00000000e+00\n",
      "  0.00000000e+00 0.00000000e+00]]\n"
     ]
    },
    {
     "data": {
      "image/png": "[encoded data removed]",
      "text/plain": [
       "<Figure size 432x288 with 1 Axes>"
      ]
     },
     "metadata": {
      "needs_background": "light"
     },
     "output_type": "display_data"
    }
   ],
   "source": [
    "# Verificamos si esta cargando los valores de forma correcta\n",
    "import numpy as np\n",
    "import matplotlib.pyplot as plt\n",
    "np.set_printoptions(linewidth=200)\n",
    "\n",
    "img_index = 5999\n",
    "\n",
    "plt.imshow(training_images[img_index], cmap='gray')\n",
    "plt.axis(False)\n",
    "\n",
    "print('Label: ', training_labels[img_index])\n",
    "print('Matrix: ', training_images[img_index])"
   ]
  },
  {
   "cell_type": "code",
   "execution_count": 9,
   "metadata": {},
   "outputs": [
    {
     "data": {
      "text/plain": [
       "(28, 28)"
      ]
     },
     "execution_count": 9,
     "metadata": {},
     "output_type": "execute_result"
    }
   ],
   "source": [
    "training_images[5999].shape"
   ]
  },
  {
   "cell_type": "markdown",
   "metadata": {},
   "source": [
    "### Creacion del Modelo"
   ]
  },
  {
   "cell_type": "code",
   "execution_count": null,
   "metadata": {},
   "outputs": [],
   "source": [
    "mlp_model = tf.keras.models.Sequential([])"
   ]
  }
 ],
 "metadata": {
  "interpreter": {
   "hash": "7c7891e7cf380ed489d75a267c4c9edc21b025f50aaae629f7ee24d6d95fc690"
  },
  "kernelspec": {
   "display_name": "Python 3.10.2 64-bit",
   "language": "python",
   "name": "python3"
  },
  "language_info": {
   "codemirror_mode": {
    "name": "ipython",
    "version": 3
   },
   "file_extension": ".py",
   "mimetype": "text/x-python",
   "name": "python",
   "nbconvert_exporter": "python",
   "pygments_lexer": "ipython3",
   "version": "3.10.2"
  },
  "orig_nbformat": 4
 },
 "nbformat": 4,
 "nbformat_minor": 2
}
