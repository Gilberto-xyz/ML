{
 "cells": [
  {
   "cell_type": "markdown",
   "metadata": {},
   "source": [
    "# Redes neuronales convolucionales\n",
    "con Tensorflow y Keras "
   ]
  },
  {
   "cell_type": "markdown",
   "metadata": {},
   "source": [
    "### Aprendizaje de neuronas\n",
    "\n",
    "Entrenar una sola neurona para hacer una prediccion\n",
    "\n",
    "En este problema se construlle un perceptron simple como el propuesto por McCulloch & Pitts. usando la funcion Sigmoide\n",
    "\n",
    "### Planteamiento del problema\n",
    "\n",
    "Queremos mostrarle a una neurona simple un conjunto de ejemplos para qye pueda aprender como se comporta una funcion. El conjunto de ejemplos es el siguiente\n",
    "\n",
    "- `(1, 0)` deberia devolver `1`\n",
    "- `(0, 1)` deberia devolver `1`\n",
    "- `(0, 0)` deberia devolver `0`\n",
    "\n",
    "Entonces, si ingresamos a la neurona el valor de `(1, 1)` deberia poder predecir el numero `1`\n",
    "\n",
    "### Que necesitamos hacer?\n",
    "\n",
    "Programar y entrenar la neurona para hacer predicciones.\n",
    "\n",
    "- Construir la clase y su constructor\n",
    "- Definir la funcion sigmoide y su derivada\n",
    "- Definir el numero de epocas para el entrenamiento\n",
    "- Resolver el probmea y predecir el valor de la salida deseada"
   ]
  },
  {
   "cell_type": "code",
   "execution_count": 1,
   "metadata": {},
   "outputs": [],
   "source": [
    "import numpy as np\n",
    "\n",
    "class sigmoid_neuron():\n",
    "\n",
    "    def __init__(self, n =2):\n",
    "        '''Constructor of the class'''\n",
    "        np.random.seed(1)\n",
    "        self.synaptic_weights = 2 * np.random.random((n, 1)) - 1 # La neurona devuelve pesos entre -1, 1\n",
    "\n",
    "    def __sigmoid(self, x):\n",
    "        '''Sigmoid function'''\n",
    "        return 1. / (1. + np.exp(- x))\n",
    "\n",
    "    def __sigmoid_derivative(self, x):\n",
    "        '''Derivative of the Sigmoid function'''\n",
    "        return x * (1 - x)\n",
    "\n",
    "    def train(self, training_inputs, training_output, iterations):\n",
    "        '''Training function'''\n",
    "        for iteration in range(iterations):\n",
    "            output = self.predict(training_inputs)\n",
    "            error = training_output.reshape((len(training_inputs), 1)) - output\n",
    "            adjustment = np.dot(training_inputs.T, error * self.__sigmoid_derivative(output))\n",
    "            self.synaptic_weights += adjustment\n",
    "\n",
    "    def predict(self, inputs):\n",
    "        '''Prediction function'''\n",
    "\n",
    "        return self.__sigmoid(np.dot(inputs, self.synaptic_weights))"
   ]
  },
  {
   "cell_type": "markdown",
   "metadata": {},
   "source": [
    "### Generando las muestras\n",
    "Ahora se puede guardar la lista de ejemplos basados en la descripcion del problema"
   ]
  },
  {
   "cell_type": "code",
   "execution_count": 2,
   "metadata": {},
   "outputs": [],
   "source": [
    "# Ejemplos de entrenamiento\n",
    "input_values = [(1, 0), (0, 1), (0, 0)]\n",
    "output_values = [1, 1, 0]\n",
    "\n",
    "training_inputs = np.array(input_values)\n",
    "trainig_outputs = np.array(output_values).T.reshape((3, 1))"
   ]
  },
  {
   "cell_type": "code",
   "execution_count": 3,
   "metadata": {},
   "outputs": [
    {
     "data": {
      "text/plain": [
       "array([[1, 0],\n",
       "       [0, 1],\n",
       "       [0, 0]])"
      ]
     },
     "execution_count": 3,
     "metadata": {},
     "output_type": "execute_result"
    }
   ],
   "source": [
    "# revision de valores\n",
    "training_inputs"
   ]
  },
  {
   "cell_type": "code",
   "execution_count": 4,
   "metadata": {},
   "outputs": [
    {
     "data": {
      "text/plain": [
       "array([[1],\n",
       "       [1],\n",
       "       [0]])"
      ]
     },
     "execution_count": 4,
     "metadata": {},
     "output_type": "execute_result"
    }
   ],
   "source": [
    "# Revision de valores\n",
    "trainig_outputs"
   ]
  },
  {
   "cell_type": "markdown",
   "metadata": {},
   "source": [
    "### Entrenando la neurona\n",
    "\n",
    "Para hacer el entrenamiento, primero definiremos una neurona. De forma predeterminada, contendra pesos aleatorios ( por que aun no se ha entrenado)"
   ]
  },
  {
   "cell_type": "code",
   "execution_count": 5,
   "metadata": {},
   "outputs": [
    {
     "name": "stdout",
     "output_type": "stream",
     "text": [
      "Pesos iniciales aleatorios: \n"
     ]
    },
    {
     "data": {
      "text/plain": [
       "array([[-0.16595599],\n",
       "       [ 0.44064899]])"
      ]
     },
     "execution_count": 5,
     "metadata": {},
     "output_type": "execute_result"
    }
   ],
   "source": [
    "# Inicializando la neurona sigmoide\n",
    "neuron = sigmoid_neuron(2)\n",
    "print('Pesos iniciales aleatorios: ')\n",
    "neuron.synaptic_weights"
   ]
  },
  {
   "cell_type": "markdown",
   "metadata": {},
   "source": []
  },
  {
   "cell_type": "markdown",
   "metadata": {},
   "source": [
    "#### Epocas de entrenamiento"
   ]
  },
  {
   "cell_type": "code",
   "execution_count": 18,
   "metadata": {},
   "outputs": [
    {
     "name": "stdout",
     "output_type": "stream",
     "text": [
      "Nuevos pesos sinapticos depsues de entrenamiento: \n"
     ]
    },
    {
     "data": {
      "text/plain": [
       "array([[7.80409127],\n",
       "       [7.80409213]])"
      ]
     },
     "execution_count": 18,
     "metadata": {},
     "output_type": "execute_result"
    }
   ],
   "source": [
    "# Modificamos el numero de epocas para verificar como funciona\n",
    "epochs = 1_000_000\n",
    "\n",
    "# Entrenamos la neurona con el numero de epocas\n",
    "neuron.train(training_inputs, trainig_outputs, epochs)\n",
    "print('Nuevos pesos sinapticos depsues de entrenamiento: ')\n",
    "neuron.synaptic_weights\n"
   ]
  },
  {
   "cell_type": "markdown",
   "metadata": {},
   "source": [
    "### Predicciones\n"
   ]
  },
  {
   "cell_type": "code",
   "execution_count": 19,
   "metadata": {},
   "outputs": [
    {
     "name": "stdout",
     "output_type": "stream",
     "text": [
      "Predicciones para (1, 1): \n"
     ]
    },
    {
     "data": {
      "text/plain": [
       "array([0.99999983])"
      ]
     },
     "execution_count": 19,
     "metadata": {},
     "output_type": "execute_result"
    }
   ],
   "source": [
    "# Predecimos para verificar el rendimiento\n",
    "uno_uno = np.array((1, 1))\n",
    "print('Predicciones para (1, 1): ')\n",
    "neuron.predict(uno_uno)"
   ]
  }
 ],
 "metadata": {
  "interpreter": {
   "hash": "7c7891e7cf380ed489d75a267c4c9edc21b025f50aaae629f7ee24d6d95fc690"
  },
  "kernelspec": {
   "display_name": "Python 3.10.2 64-bit",
   "language": "python",
   "name": "python3"
  },
  "language_info": {
   "codemirror_mode": {
    "name": "ipython",
    "version": 3
   },
   "file_extension": ".py",
   "mimetype": "text/x-python",
   "name": "python",
   "nbconvert_exporter": "python",
   "pygments_lexer": "ipython3",
   "version": "3.10.2"
  },
  "orig_nbformat": 4
 },
 "nbformat": 4,
 "nbformat_minor": 2
}
