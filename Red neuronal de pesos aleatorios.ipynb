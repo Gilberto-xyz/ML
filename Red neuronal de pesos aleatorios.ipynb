{
 "cells": [
  {
   "cell_type": "markdown",
   "metadata": {},
   "source": [
    "# Redes Neuronales artificiales\n",
    "\n",
    "Tenemos 7 neuronas con diferentes pesos (definidos de manera aleatoria) con la siguiente configuracion\n",
    "\n",
    " - Tenemos dos neuronas que representaran la informacion de entrada \n",
    " - cada una de las dos neuronas esta conectada con cuatro siguientes neuronas dispuestas en una siguiente capa\n",
    " - Finalmente, cada salida de las neuronas previas es conectada a una unica neurona dispuesta en una capa de salida\n",
    "\n",
    " La configuracion quedaria como se muestra a continuacion:\n",
    "\n",
    "<center>\n",
    "    <img src=\"https://www.pngitem.com/pimgs/m/531-5314899_artificial-neural-network-png-transparent-png.png\" width=\"30%\" alt=\"A simple neural network\">\n",
    "</center>\n"
   ]
  },
  {
   "cell_type": "code",
   "execution_count": 105,
   "metadata": {},
   "outputs": [],
   "source": [
    "import numpy as np\n",
    "from numpy.random import uniform as u\n",
    "\n",
    "class NeuralNet:\n",
    "    '''     Objeto NeuralNet para crear redes neuronales artificiales.\n",
    "\n",
    "    En este ejemplo la capa de entrada siempre sera de dos neuronas y \n",
    "    la capa de salida siempre de una, con el de poder visualizar el funcionamiento \n",
    "    interno de la red neuronal como un mapeo\n",
    "    '''\n",
    "\n",
    "    def __init__ (self, n_layers = 1, n_neurons = 4):\n",
    "        '''     Constructor de la clase.\n",
    "\n",
    "        Inicializa pesos aleatorios en la red neuronal.\n",
    "\n",
    "        Parametros:\n",
    "        n_capas : int\n",
    "            Numero de capas ocultas en la red. Por defecto, el valor es 1\n",
    "        \n",
    "        n_neuronas :int\n",
    "            Numero de neuronas por capa en la red. Por defecto, el valor es 4\n",
    "        '''\n",
    "\n",
    "        # Definimos pesos y biases en la capa de entrada \n",
    "        self.w_in = u(low= -1, high = 1, size = (2, n_neurons))\n",
    "        self.b_in = u(low= -1, high = 1, size = n_neurons)\n",
    "\n",
    "        # Definimos pesos y biases en las capas ocultas \n",
    "        self.w_hidden = u(low= -3, high = 3, size = (n_layers, n_neurons, n_neurons)) # TODO: Revisar con [-3, 3]\n",
    "        self.b_hidden = u(low= -1, high = 1, size = (n_layers, n_neurons))\n",
    "\n",
    "        # Definimos pesos y biases en la capa de salida\n",
    "        self.w_out = u(low= -1, high = 1, size = (n_neurons, 1))\n",
    "        self.b_out = u(low= -1, high = 1, size = 1)\n",
    "\n",
    "\n",
    "    @staticmethod\n",
    "    def activate_layer(y_in, w, b):\n",
    "        '''     Calcula el producto interno y aplica funcion de activacion por capa.\n",
    "\n",
    "        Parametros:\n",
    "        ----------\n",
    "        y_in: ndarray\n",
    "            El vector con datos de entrada\n",
    "        \n",
    "        w : ndarray\n",
    "            El vector de pesos\n",
    "        \n",
    "        b : ndarray\n",
    "            El vector de biases\n",
    "        \n",
    "        Retorna\n",
    "        -------\n",
    "        s : ndarray\n",
    "            Un vector de activaion resultante\n",
    "        '''\n",
    "\n",
    "        z = np.dot(y_in, w) + b\n",
    "        s = 1. / (1. + np.exp(-z))\n",
    "\n",
    "        return s\n",
    "\n",
    "# Propagacion de informacion\n",
    "    def feedforward(self, y_in):\n",
    "        '''     Calcula el producto interno y aplica funcion de activacion por capa\n",
    "\n",
    "        Parametros:\n",
    "        ----------\n",
    "        y : ndarray \n",
    "            recibe los datos de entrada y le aplica la funcion de activacion \n",
    "\n",
    "        Retorna:\n",
    "        -------\n",
    "        output\n",
    "            Valor resultante de todas las operaciones de las capas ocultas\n",
    "        '''\n",
    "\n",
    "        # Entrada\n",
    "        y = self.activate_layer(y_in, self.w_in, self.b_in)\n",
    "\n",
    "        # Capas ocultas\n",
    "        for i in range(self.w_hidden.shape[0]):\n",
    "            y = self.activate_layer(y, self.w_hidden[i], self.b_hidden[i])\n",
    "\n",
    "        #Salida\n",
    "        output = self.activate_layer(y, self.w_out, self.b_out)\n",
    "\n",
    "        return output\n",
    "\n",
    "# Visualizacion TODO: Colormap check\n",
    "    def visualize(self, grid_size = 50, colormap = 'gnuplot', c_reverse = False):\n",
    "        '''     Funcion para visualizar el mapeo de la red neuronal en un plano 2D\n",
    "\n",
    "        Parametros:\n",
    "        ----------\n",
    "        grid_size : int\n",
    "            El tamaño a utilizar para crear rejilla. Default es 50\n",
    "        \n",
    "        colormap: str\n",
    "            El mapa de color a utilizar. Referencia en matplotlib\n",
    "        c_reverse: bool\n",
    "            Flag para especificar si se invierte el mapa de color. Default False \n",
    "        '''\n",
    "    \n",
    "        import matplotlib.pyplot as plt\n",
    "        import matplotlib as plot\n",
    "        plot.rcParams['figure.dpi'] = 300\n",
    "\n",
    "        # Creamos una rejilla\n",
    "        x = np.linspace(-0.5, 0.5, grid_size)\n",
    "        y = np.linspace(-0.5, 0.5, grid_size)\n",
    "        xx, yy = np.meshgrid(x, y)\n",
    "\n",
    "        # Para todas las coordenadas (x, y) en la rejilla\n",
    "        # se realiza una unica lista con los pares de puntos      \n",
    "\n",
    "        x_flat = xx.flatten()\n",
    "        y_flat = yy.flatten()\n",
    "        y_in = zip(x_flat, y_flat)\n",
    "        y_in = np.array(list(y_in))\n",
    "\n",
    "        # Hacemos feedfordward con la red\n",
    "        y_out = self.feedforward(y_in)\n",
    "\n",
    "        # Redimensionamos a la rejilla\n",
    "        y_out_2d = np.reshape(y_out, (grid_size, grid_size))\n",
    "\n",
    "        if c_reverse:\n",
    "            cmap = plt.cm.get_cmap(colormap)\n",
    "            cmap = cmap.reversed()\n",
    "        else:\n",
    "            cmap = colormap\n",
    "        \n",
    "        # Graficamos los resultados de la red\n",
    "\n",
    "        plt.figure(figsize = (10, 10))\n",
    "        plt.axes([0, 0, 1, 1])\n",
    "        plt.imshow(\n",
    "            y_out_2d, \n",
    "            extent = [-0.5, 0.5, -0.5, 0.5],\n",
    "            interpolation = 'nearest',\n",
    "            cmap = cmap)\n",
    "        plt.axis(False)\n",
    "        plt.show()"
   ]
  },
  {
   "cell_type": "markdown",
   "metadata": {},
   "source": [
    "Ahora creamos un vector de entrada con valores aleatorios, que utilizaremos para validar el funcionamiento de nuestra red neuronal"
   ]
  },
  {
   "cell_type": "code",
   "execution_count": 31,
   "metadata": {},
   "outputs": [],
   "source": [
    "# Definimos valores de entrada\n",
    "y_in = np.array([0.8, 0.2])"
   ]
  },
  {
   "cell_type": "markdown",
   "metadata": {},
   "source": [
    "Creamos una instancia de nuestra clase, una red neuronal artificial con la configuracion previamente definida\n",
    "(1 capa oculta de 4 neronas)"
   ]
  },
  {
   "cell_type": "code",
   "execution_count": 25,
   "metadata": {},
   "outputs": [],
   "source": [
    "nn = NeuralNet()"
   ]
  },
  {
   "cell_type": "code",
   "execution_count": 26,
   "metadata": {},
   "outputs": [
    {
     "data": {
      "text/plain": [
       "array([[[ 0.45789301, -0.56366899, -0.34785198, -0.41573233],\n",
       "        [-0.64968231,  0.85624825, -0.67452999,  0.26609752],\n",
       "        [-0.66249945,  0.09392303, -0.14210523, -0.43695431],\n",
       "        [ 0.95807885,  0.94405114, -0.60923634, -0.46116885]]])"
      ]
     },
     "execution_count": 26,
     "metadata": {},
     "output_type": "execute_result"
    }
   ],
   "source": [
    "nn.w_hidden"
   ]
  },
  {
   "cell_type": "markdown",
   "metadata": {},
   "source": [
    "Realizamos el proceso feedforward de la red con el valor de entrada"
   ]
  },
  {
   "cell_type": "code",
   "execution_count": 28,
   "metadata": {},
   "outputs": [
    {
     "data": {
      "text/plain": [
       "array([0.6620991])"
      ]
     },
     "execution_count": 28,
     "metadata": {},
     "output_type": "execute_result"
    }
   ],
   "source": [
    "nn.feedforward(y_in)"
   ]
  },
  {
   "cell_type": "markdown",
   "metadata": {},
   "source": [
    "### **DeepNN**"
   ]
  },
  {
   "cell_type": "code",
   "execution_count": 106,
   "metadata": {},
   "outputs": [],
   "source": [
    "deep_nn = NeuralNet(n_layers = 20, n_neurons = 100)"
   ]
  },
  {
   "cell_type": "code",
   "execution_count": 71,
   "metadata": {},
   "outputs": [
    {
     "data": {
      "text/plain": [
       "array([0.99938826])"
      ]
     },
     "execution_count": 71,
     "metadata": {},
     "output_type": "execute_result"
    }
   ],
   "source": [
    "deep_nn.feedforward(y_in)"
   ]
  },
  {
   "cell_type": "code",
   "execution_count": 35,
   "metadata": {},
   "outputs": [
    {
     "data": {
      "text/plain": [
       "array([[[-0.11067959, -0.32843156, -0.14865628, ..., -0.91420688,\n",
       "          0.09736718, -0.27308873],\n",
       "        [ 0.51977967, -0.46032817,  0.29253017, ..., -0.79155443,\n",
       "         -0.04799056, -0.14526011],\n",
       "        [-0.0286615 , -0.82288941, -0.27521338, ..., -0.28177148,\n",
       "         -0.76379067,  0.98349663],\n",
       "        ...,\n",
       "        [ 0.15201048,  0.01317847, -0.44086801, ...,  0.06439033,\n",
       "          0.4762078 , -0.74215061],\n",
       "        [-0.02997104,  0.29723761,  0.86400167, ...,  0.67337782,\n",
       "          0.56588474, -0.57028651],\n",
       "        [-0.30912992,  0.81011136, -0.5068977 , ..., -0.28315458,\n",
       "          0.99121682, -0.48602571]],\n",
       "\n",
       "       [[ 0.74696442, -0.29833366, -0.74620888, ..., -0.60531773,\n",
       "          0.26261459, -0.78293178],\n",
       "        [ 0.0415564 ,  0.06088517,  0.87731303, ...,  0.30862713,\n",
       "         -0.74245276,  0.87753738],\n",
       "        [ 0.36437728, -0.07594307, -0.65493382, ...,  0.50758319,\n",
       "         -0.9895715 ,  0.19631973],\n",
       "        ...,\n",
       "        [ 0.41121487,  0.83751484, -0.59753337, ...,  0.84107849,\n",
       "          0.57725862, -0.07145764],\n",
       "        [-0.3866274 , -0.98613075, -0.27460336, ...,  0.18215799,\n",
       "          0.55295138,  0.88513579],\n",
       "        [ 0.61690406, -0.02533022,  0.03724097, ...,  0.30156592,\n",
       "         -0.3655284 ,  0.83575273]],\n",
       "\n",
       "       [[ 0.51497591, -0.10193493, -0.86466488, ...,  0.11863972,\n",
       "         -0.05920782, -0.00638122],\n",
       "        [-0.20181025, -0.40773728,  0.45461986, ...,  0.63166392,\n",
       "          0.90501747, -0.25041758],\n",
       "        [ 0.00653912,  0.09354037, -0.04232033, ..., -0.71672332,\n",
       "          0.68534025,  0.33184075],\n",
       "        ...,\n",
       "        [ 0.93671517, -0.27911868, -0.71321022, ..., -0.55916768,\n",
       "          0.44508359, -0.30065705],\n",
       "        [ 0.50676053, -0.90798695,  0.85487158, ..., -0.0348638 ,\n",
       "         -0.05769152,  0.47007847],\n",
       "        [-0.06634578,  0.90619945, -0.85743611, ..., -0.83540915,\n",
       "          0.71997878, -0.55470401]],\n",
       "\n",
       "       ...,\n",
       "\n",
       "       [[-0.47868372, -0.15919299, -0.75370887, ...,  0.77501702,\n",
       "         -0.14566588, -0.85149573],\n",
       "        [ 0.21567801,  0.80538143, -0.41280836, ...,  0.88822481,\n",
       "         -0.86500629, -0.80851637],\n",
       "        [ 0.66809344, -0.05717342,  0.65443392, ..., -0.73932021,\n",
       "         -0.55546535,  0.56129226],\n",
       "        ...,\n",
       "        [-0.42412045,  0.55299971,  0.76635274, ..., -0.5907391 ,\n",
       "          0.88101201, -0.97818866],\n",
       "        [-0.42592184,  0.45559189,  0.04486079, ..., -0.21389913,\n",
       "         -0.34721339,  0.45273458],\n",
       "        [ 0.57985883,  0.33323393, -0.32088728, ..., -0.77817924,\n",
       "         -0.62001529, -0.56164463]],\n",
       "\n",
       "       [[-0.81686835,  0.91643093,  0.10011347, ..., -0.57228574,\n",
       "          0.83176117,  0.15452069],\n",
       "        [ 0.80462538,  0.08527097, -0.46168858, ..., -0.65837577,\n",
       "         -0.86946542,  0.44241552],\n",
       "        [-0.3969601 ,  0.37390296, -0.838209  , ...,  0.58380217,\n",
       "         -0.19157209,  0.85148812],\n",
       "        ...,\n",
       "        [-0.46388075,  0.52959417,  0.96200923, ..., -0.14162396,\n",
       "          0.76597322, -0.5218174 ],\n",
       "        [ 0.78772578,  0.69261199,  0.89261222, ...,  0.84829406,\n",
       "         -0.57347022,  0.33492096],\n",
       "        [ 0.42784607, -0.9777997 ,  0.28123215, ..., -0.64246916,\n",
       "         -0.56506254,  0.88650671]],\n",
       "\n",
       "       [[ 0.13238074,  0.51653906, -0.93612702, ..., -0.58511727,\n",
       "          0.48290931, -0.11304896],\n",
       "        [ 0.99339054,  0.85610382,  0.54069896, ...,  0.96550538,\n",
       "         -0.47260256, -0.124857  ],\n",
       "        [ 0.05309352,  0.15558286,  0.29172496, ..., -0.71867513,\n",
       "         -0.99106045, -0.29949906],\n",
       "        ...,\n",
       "        [ 0.39956804, -0.71696611,  0.63727932, ..., -0.03093335,\n",
       "          0.90731594, -0.69627239],\n",
       "        [ 0.63901635, -0.50387625,  0.47607965, ...,  0.8887936 ,\n",
       "         -0.17645252,  0.07862223],\n",
       "        [ 0.45461582,  0.39194414, -0.79630393, ..., -0.0918225 ,\n",
       "         -0.74890954, -0.93992932]]])"
      ]
     },
     "execution_count": 35,
     "metadata": {},
     "output_type": "execute_result"
    }
   ],
   "source": [
    "deep_nn.w_hidden"
   ]
  },
  {
   "cell_type": "markdown",
   "metadata": {},
   "source": [
    "### **Visualizacion**"
   ]
  },
  {
   "cell_type": "code",
   "execution_count": null,
   "metadata": {},
   "outputs": [],
   "source": [
    "nn.visualize()"
   ]
  },
  {
   "cell_type": "code",
   "execution_count": null,
   "metadata": {},
   "outputs": [],
   "source": [
    "deep_nn.visualize()"
   ]
  },
  {
   "cell_type": "code",
   "execution_count": null,
   "metadata": {},
   "outputs": [],
   "source": [
    "deep_nn.visualize(grid_size=2048) #n!"
   ]
  }
 ],
 "metadata": {
  "interpreter": {
   "hash": "7c7891e7cf380ed489d75a267c4c9edc21b025f50aaae629f7ee24d6d95fc690"
  },
  "kernelspec": {
   "display_name": "Python 3.10.2 64-bit",
   "language": "python",
   "name": "python3"
  },
  "language_info": {
   "codemirror_mode": {
    "name": "ipython",
    "version": 3
   },
   "file_extension": ".py",
   "mimetype": "text/x-python",
   "name": "python",
   "nbconvert_exporter": "python",
   "pygments_lexer": "ipython3",
   "version": "3.10.2"
  },
  "orig_nbformat": 4
 },
 "nbformat": 4,
 "nbformat_minor": 2
}
